{
  "nbformat": 4,
  "nbformat_minor": 0,
  "metadata": {
    "colab": {
      "provenance": [],
      "collapsed_sections": [],
      "include_colab_link": true
    },
    "kernelspec": {
      "display_name": "Python 3",
      "name": "python3"
    },
    "accelerator": "GPU"
  },
  "cells": [
    {
      "cell_type": "markdown",
      "metadata": {
        "id": "view-in-github",
        "colab_type": "text"
      },
      "source": [
        "<a href=\"https://colab.research.google.com/github/iDRISS-DEV96/search-using-signlanguage-ai-model/blob/main/Copy_of_ASL_MobileNetV2.ipynb\" target=\"_parent\"><img src=\"https://colab.research.google.com/assets/colab-badge.svg\" alt=\"Open In Colab\"/></a>"
      ]
    },
    {
      "cell_type": "markdown",
      "metadata": {
        "id": "pp0VaWILDUDg"
      },
      "source": [
        "# American Sign Language - MobileNetV2\n",
        "Author: [Sayan Nath](https://github.com/sayannath)\n",
        "\n",
        "Dataset Link: [Kaggle ASL](https://www.kaggle.com/grassknoted/asl-alphabet)"
      ]
    },
    {
      "cell_type": "markdown",
      "metadata": {
        "id": "l2Y6Au-QLaZ0"
      },
      "source": [
        "## Initial Setup"
      ]
    },
    {
      "cell_type": "code",
      "metadata": {
        "colab": {
          "base_uri": "https://localhost:8080/"
        },
        "id": "hs9fDosqCCa5",
        "outputId": "6499313d-861e-45f8-b8d5-cd47e4616f03"
      },
      "source": [
        "!nvidia-smi"
      ],
      "execution_count": 4,
      "outputs": [
        {
          "output_type": "stream",
          "name": "stdout",
          "text": [
            "Sat Oct 22 20:18:05 2022       \n",
            "+-----------------------------------------------------------------------------+\n",
            "| NVIDIA-SMI 460.32.03    Driver Version: 460.32.03    CUDA Version: 11.2     |\n",
            "|-------------------------------+----------------------+----------------------+\n",
            "| GPU  Name        Persistence-M| Bus-Id        Disp.A | Volatile Uncorr. ECC |\n",
            "| Fan  Temp  Perf  Pwr:Usage/Cap|         Memory-Usage | GPU-Util  Compute M. |\n",
            "|                               |                      |               MIG M. |\n",
            "|===============================+======================+======================|\n",
            "|   0  Tesla T4            Off  | 00000000:00:04.0 Off |                    0 |\n",
            "| N/A   34C    P8     9W /  70W |      0MiB / 15109MiB |      0%      Default |\n",
            "|                               |                      |                  N/A |\n",
            "+-------------------------------+----------------------+----------------------+\n",
            "                                                                               \n",
            "+-----------------------------------------------------------------------------+\n",
            "| Processes:                                                                  |\n",
            "|  GPU   GI   CI        PID   Type   Process name                  GPU Memory |\n",
            "|        ID   ID                                                   Usage      |\n",
            "|=============================================================================|\n",
            "|  No running processes found                                                 |\n",
            "+-----------------------------------------------------------------------------+\n"
          ]
        }
      ]
    },
    {
      "cell_type": "code",
      "metadata": {
        "id": "-qO-ptPpajA_",
        "colab": {
          "base_uri": "https://localhost:8080/"
        },
        "outputId": "9bd7d31a-2199-4c38-a253-dd4d9b84d930"
      },
      "source": [
        "!pip install -q kaggle\n",
        "!pip install -qq tensorflow-addons"
      ],
      "execution_count": 5,
      "outputs": [
        {
          "output_type": "stream",
          "name": "stdout",
          "text": [
            "\u001b[?25l\r\u001b[K     |▎                               | 10 kB 31.9 MB/s eta 0:00:01\r\u001b[K     |▋                               | 20 kB 7.4 MB/s eta 0:00:01\r\u001b[K     |█                               | 30 kB 10.6 MB/s eta 0:00:01\r\u001b[K     |█▏                              | 40 kB 4.3 MB/s eta 0:00:01\r\u001b[K     |█▌                              | 51 kB 4.4 MB/s eta 0:00:01\r\u001b[K     |█▉                              | 61 kB 5.2 MB/s eta 0:00:01\r\u001b[K     |██                              | 71 kB 5.7 MB/s eta 0:00:01\r\u001b[K     |██▍                             | 81 kB 5.6 MB/s eta 0:00:01\r\u001b[K     |██▊                             | 92 kB 6.2 MB/s eta 0:00:01\r\u001b[K     |███                             | 102 kB 5.2 MB/s eta 0:00:01\r\u001b[K     |███▎                            | 112 kB 5.2 MB/s eta 0:00:01\r\u001b[K     |███▋                            | 122 kB 5.2 MB/s eta 0:00:01\r\u001b[K     |███▉                            | 133 kB 5.2 MB/s eta 0:00:01\r\u001b[K     |████▏                           | 143 kB 5.2 MB/s eta 0:00:01\r\u001b[K     |████▌                           | 153 kB 5.2 MB/s eta 0:00:01\r\u001b[K     |████▊                           | 163 kB 5.2 MB/s eta 0:00:01\r\u001b[K     |█████                           | 174 kB 5.2 MB/s eta 0:00:01\r\u001b[K     |█████▍                          | 184 kB 5.2 MB/s eta 0:00:01\r\u001b[K     |█████▋                          | 194 kB 5.2 MB/s eta 0:00:01\r\u001b[K     |██████                          | 204 kB 5.2 MB/s eta 0:00:01\r\u001b[K     |██████▎                         | 215 kB 5.2 MB/s eta 0:00:01\r\u001b[K     |██████▌                         | 225 kB 5.2 MB/s eta 0:00:01\r\u001b[K     |██████▉                         | 235 kB 5.2 MB/s eta 0:00:01\r\u001b[K     |███████▏                        | 245 kB 5.2 MB/s eta 0:00:01\r\u001b[K     |███████▍                        | 256 kB 5.2 MB/s eta 0:00:01\r\u001b[K     |███████▊                        | 266 kB 5.2 MB/s eta 0:00:01\r\u001b[K     |████████                        | 276 kB 5.2 MB/s eta 0:00:01\r\u001b[K     |████████▎                       | 286 kB 5.2 MB/s eta 0:00:01\r\u001b[K     |████████▋                       | 296 kB 5.2 MB/s eta 0:00:01\r\u001b[K     |█████████                       | 307 kB 5.2 MB/s eta 0:00:01\r\u001b[K     |█████████▏                      | 317 kB 5.2 MB/s eta 0:00:01\r\u001b[K     |█████████▌                      | 327 kB 5.2 MB/s eta 0:00:01\r\u001b[K     |█████████▉                      | 337 kB 5.2 MB/s eta 0:00:01\r\u001b[K     |██████████                      | 348 kB 5.2 MB/s eta 0:00:01\r\u001b[K     |██████████▍                     | 358 kB 5.2 MB/s eta 0:00:01\r\u001b[K     |██████████▊                     | 368 kB 5.2 MB/s eta 0:00:01\r\u001b[K     |███████████                     | 378 kB 5.2 MB/s eta 0:00:01\r\u001b[K     |███████████▎                    | 389 kB 5.2 MB/s eta 0:00:01\r\u001b[K     |███████████▋                    | 399 kB 5.2 MB/s eta 0:00:01\r\u001b[K     |███████████▉                    | 409 kB 5.2 MB/s eta 0:00:01\r\u001b[K     |████████████▏                   | 419 kB 5.2 MB/s eta 0:00:01\r\u001b[K     |████████████▌                   | 430 kB 5.2 MB/s eta 0:00:01\r\u001b[K     |████████████▊                   | 440 kB 5.2 MB/s eta 0:00:01\r\u001b[K     |█████████████                   | 450 kB 5.2 MB/s eta 0:00:01\r\u001b[K     |█████████████▍                  | 460 kB 5.2 MB/s eta 0:00:01\r\u001b[K     |█████████████▋                  | 471 kB 5.2 MB/s eta 0:00:01\r\u001b[K     |██████████████                  | 481 kB 5.2 MB/s eta 0:00:01\r\u001b[K     |██████████████▎                 | 491 kB 5.2 MB/s eta 0:00:01\r\u001b[K     |██████████████▌                 | 501 kB 5.2 MB/s eta 0:00:01\r\u001b[K     |██████████████▉                 | 512 kB 5.2 MB/s eta 0:00:01\r\u001b[K     |███████████████▏                | 522 kB 5.2 MB/s eta 0:00:01\r\u001b[K     |███████████████▍                | 532 kB 5.2 MB/s eta 0:00:01\r\u001b[K     |███████████████▊                | 542 kB 5.2 MB/s eta 0:00:01\r\u001b[K     |████████████████                | 552 kB 5.2 MB/s eta 0:00:01\r\u001b[K     |████████████████▎               | 563 kB 5.2 MB/s eta 0:00:01\r\u001b[K     |████████████████▋               | 573 kB 5.2 MB/s eta 0:00:01\r\u001b[K     |█████████████████               | 583 kB 5.2 MB/s eta 0:00:01\r\u001b[K     |█████████████████▏              | 593 kB 5.2 MB/s eta 0:00:01\r\u001b[K     |█████████████████▌              | 604 kB 5.2 MB/s eta 0:00:01\r\u001b[K     |█████████████████▉              | 614 kB 5.2 MB/s eta 0:00:01\r\u001b[K     |██████████████████              | 624 kB 5.2 MB/s eta 0:00:01\r\u001b[K     |██████████████████▍             | 634 kB 5.2 MB/s eta 0:00:01\r\u001b[K     |██████████████████▊             | 645 kB 5.2 MB/s eta 0:00:01\r\u001b[K     |███████████████████             | 655 kB 5.2 MB/s eta 0:00:01\r\u001b[K     |███████████████████▎            | 665 kB 5.2 MB/s eta 0:00:01\r\u001b[K     |███████████████████▋            | 675 kB 5.2 MB/s eta 0:00:01\r\u001b[K     |███████████████████▉            | 686 kB 5.2 MB/s eta 0:00:01\r\u001b[K     |████████████████████▏           | 696 kB 5.2 MB/s eta 0:00:01\r\u001b[K     |████████████████████▌           | 706 kB 5.2 MB/s eta 0:00:01\r\u001b[K     |████████████████████▊           | 716 kB 5.2 MB/s eta 0:00:01\r\u001b[K     |█████████████████████           | 727 kB 5.2 MB/s eta 0:00:01\r\u001b[K     |█████████████████████▍          | 737 kB 5.2 MB/s eta 0:00:01\r\u001b[K     |█████████████████████▋          | 747 kB 5.2 MB/s eta 0:00:01\r\u001b[K     |██████████████████████          | 757 kB 5.2 MB/s eta 0:00:01\r\u001b[K     |██████████████████████▎         | 768 kB 5.2 MB/s eta 0:00:01\r\u001b[K     |██████████████████████▌         | 778 kB 5.2 MB/s eta 0:00:01\r\u001b[K     |██████████████████████▉         | 788 kB 5.2 MB/s eta 0:00:01\r\u001b[K     |███████████████████████▏        | 798 kB 5.2 MB/s eta 0:00:01\r\u001b[K     |███████████████████████▍        | 808 kB 5.2 MB/s eta 0:00:01\r\u001b[K     |███████████████████████▊        | 819 kB 5.2 MB/s eta 0:00:01\r\u001b[K     |████████████████████████        | 829 kB 5.2 MB/s eta 0:00:01\r\u001b[K     |████████████████████████▎       | 839 kB 5.2 MB/s eta 0:00:01\r\u001b[K     |████████████████████████▋       | 849 kB 5.2 MB/s eta 0:00:01\r\u001b[K     |█████████████████████████       | 860 kB 5.2 MB/s eta 0:00:01\r\u001b[K     |█████████████████████████▎      | 870 kB 5.2 MB/s eta 0:00:01\r\u001b[K     |█████████████████████████▌      | 880 kB 5.2 MB/s eta 0:00:01\r\u001b[K     |█████████████████████████▉      | 890 kB 5.2 MB/s eta 0:00:01\r\u001b[K     |██████████████████████████▏     | 901 kB 5.2 MB/s eta 0:00:01\r\u001b[K     |██████████████████████████▍     | 911 kB 5.2 MB/s eta 0:00:01\r\u001b[K     |██████████████████████████▊     | 921 kB 5.2 MB/s eta 0:00:01\r\u001b[K     |███████████████████████████     | 931 kB 5.2 MB/s eta 0:00:01\r\u001b[K     |███████████████████████████▎    | 942 kB 5.2 MB/s eta 0:00:01\r\u001b[K     |███████████████████████████▋    | 952 kB 5.2 MB/s eta 0:00:01\r\u001b[K     |████████████████████████████    | 962 kB 5.2 MB/s eta 0:00:01\r\u001b[K     |████████████████████████████▏   | 972 kB 5.2 MB/s eta 0:00:01\r\u001b[K     |████████████████████████████▌   | 983 kB 5.2 MB/s eta 0:00:01\r\u001b[K     |████████████████████████████▉   | 993 kB 5.2 MB/s eta 0:00:01\r\u001b[K     |█████████████████████████████   | 1.0 MB 5.2 MB/s eta 0:00:01\r\u001b[K     |█████████████████████████████▍  | 1.0 MB 5.2 MB/s eta 0:00:01\r\u001b[K     |█████████████████████████████▊  | 1.0 MB 5.2 MB/s eta 0:00:01\r\u001b[K     |██████████████████████████████  | 1.0 MB 5.2 MB/s eta 0:00:01\r\u001b[K     |██████████████████████████████▎ | 1.0 MB 5.2 MB/s eta 0:00:01\r\u001b[K     |██████████████████████████████▋ | 1.1 MB 5.2 MB/s eta 0:00:01\r\u001b[K     |██████████████████████████████▉ | 1.1 MB 5.2 MB/s eta 0:00:01\r\u001b[K     |███████████████████████████████▏| 1.1 MB 5.2 MB/s eta 0:00:01\r\u001b[K     |███████████████████████████████▌| 1.1 MB 5.2 MB/s eta 0:00:01\r\u001b[K     |███████████████████████████████▊| 1.1 MB 5.2 MB/s eta 0:00:01\r\u001b[K     |████████████████████████████████| 1.1 MB 5.2 MB/s \n",
            "\u001b[?25h"
          ]
        }
      ]
    },
    {
      "cell_type": "code",
      "metadata": {
        "colab": {
          "base_uri": "https://localhost:8080/",
          "height": 90
        },
        "id": "FHxxTzccap_L",
        "outputId": "9b66eed2-22ff-465d-8cb4-d2604d865511"
      },
      "source": [
        "from google.colab import files\n",
        "files.upload()"
      ],
      "execution_count": 6,
      "outputs": [
        {
          "output_type": "display_data",
          "data": {
            "text/plain": [
              "<IPython.core.display.HTML object>"
            ],
            "text/html": [
              "\n",
              "     <input type=\"file\" id=\"files-b3982bab-5f0e-4494-969f-2dacf9d6e1b7\" name=\"files[]\" multiple disabled\n",
              "        style=\"border:none\" />\n",
              "     <output id=\"result-b3982bab-5f0e-4494-969f-2dacf9d6e1b7\">\n",
              "      Upload widget is only available when the cell has been executed in the\n",
              "      current browser session. Please rerun this cell to enable.\n",
              "      </output>\n",
              "      <script>// Copyright 2017 Google LLC\n",
              "//\n",
              "// Licensed under the Apache License, Version 2.0 (the \"License\");\n",
              "// you may not use this file except in compliance with the License.\n",
              "// You may obtain a copy of the License at\n",
              "//\n",
              "//      http://www.apache.org/licenses/LICENSE-2.0\n",
              "//\n",
              "// Unless required by applicable law or agreed to in writing, software\n",
              "// distributed under the License is distributed on an \"AS IS\" BASIS,\n",
              "// WITHOUT WARRANTIES OR CONDITIONS OF ANY KIND, either express or implied.\n",
              "// See the License for the specific language governing permissions and\n",
              "// limitations under the License.\n",
              "\n",
              "/**\n",
              " * @fileoverview Helpers for google.colab Python module.\n",
              " */\n",
              "(function(scope) {\n",
              "function span(text, styleAttributes = {}) {\n",
              "  const element = document.createElement('span');\n",
              "  element.textContent = text;\n",
              "  for (const key of Object.keys(styleAttributes)) {\n",
              "    element.style[key] = styleAttributes[key];\n",
              "  }\n",
              "  return element;\n",
              "}\n",
              "\n",
              "// Max number of bytes which will be uploaded at a time.\n",
              "const MAX_PAYLOAD_SIZE = 100 * 1024;\n",
              "\n",
              "function _uploadFiles(inputId, outputId) {\n",
              "  const steps = uploadFilesStep(inputId, outputId);\n",
              "  const outputElement = document.getElementById(outputId);\n",
              "  // Cache steps on the outputElement to make it available for the next call\n",
              "  // to uploadFilesContinue from Python.\n",
              "  outputElement.steps = steps;\n",
              "\n",
              "  return _uploadFilesContinue(outputId);\n",
              "}\n",
              "\n",
              "// This is roughly an async generator (not supported in the browser yet),\n",
              "// where there are multiple asynchronous steps and the Python side is going\n",
              "// to poll for completion of each step.\n",
              "// This uses a Promise to block the python side on completion of each step,\n",
              "// then passes the result of the previous step as the input to the next step.\n",
              "function _uploadFilesContinue(outputId) {\n",
              "  const outputElement = document.getElementById(outputId);\n",
              "  const steps = outputElement.steps;\n",
              "\n",
              "  const next = steps.next(outputElement.lastPromiseValue);\n",
              "  return Promise.resolve(next.value.promise).then((value) => {\n",
              "    // Cache the last promise value to make it available to the next\n",
              "    // step of the generator.\n",
              "    outputElement.lastPromiseValue = value;\n",
              "    return next.value.response;\n",
              "  });\n",
              "}\n",
              "\n",
              "/**\n",
              " * Generator function which is called between each async step of the upload\n",
              " * process.\n",
              " * @param {string} inputId Element ID of the input file picker element.\n",
              " * @param {string} outputId Element ID of the output display.\n",
              " * @return {!Iterable<!Object>} Iterable of next steps.\n",
              " */\n",
              "function* uploadFilesStep(inputId, outputId) {\n",
              "  const inputElement = document.getElementById(inputId);\n",
              "  inputElement.disabled = false;\n",
              "\n",
              "  const outputElement = document.getElementById(outputId);\n",
              "  outputElement.innerHTML = '';\n",
              "\n",
              "  const pickedPromise = new Promise((resolve) => {\n",
              "    inputElement.addEventListener('change', (e) => {\n",
              "      resolve(e.target.files);\n",
              "    });\n",
              "  });\n",
              "\n",
              "  const cancel = document.createElement('button');\n",
              "  inputElement.parentElement.appendChild(cancel);\n",
              "  cancel.textContent = 'Cancel upload';\n",
              "  const cancelPromise = new Promise((resolve) => {\n",
              "    cancel.onclick = () => {\n",
              "      resolve(null);\n",
              "    };\n",
              "  });\n",
              "\n",
              "  // Wait for the user to pick the files.\n",
              "  const files = yield {\n",
              "    promise: Promise.race([pickedPromise, cancelPromise]),\n",
              "    response: {\n",
              "      action: 'starting',\n",
              "    }\n",
              "  };\n",
              "\n",
              "  cancel.remove();\n",
              "\n",
              "  // Disable the input element since further picks are not allowed.\n",
              "  inputElement.disabled = true;\n",
              "\n",
              "  if (!files) {\n",
              "    return {\n",
              "      response: {\n",
              "        action: 'complete',\n",
              "      }\n",
              "    };\n",
              "  }\n",
              "\n",
              "  for (const file of files) {\n",
              "    const li = document.createElement('li');\n",
              "    li.append(span(file.name, {fontWeight: 'bold'}));\n",
              "    li.append(span(\n",
              "        `(${file.type || 'n/a'}) - ${file.size} bytes, ` +\n",
              "        `last modified: ${\n",
              "            file.lastModifiedDate ? file.lastModifiedDate.toLocaleDateString() :\n",
              "                                    'n/a'} - `));\n",
              "    const percent = span('0% done');\n",
              "    li.appendChild(percent);\n",
              "\n",
              "    outputElement.appendChild(li);\n",
              "\n",
              "    const fileDataPromise = new Promise((resolve) => {\n",
              "      const reader = new FileReader();\n",
              "      reader.onload = (e) => {\n",
              "        resolve(e.target.result);\n",
              "      };\n",
              "      reader.readAsArrayBuffer(file);\n",
              "    });\n",
              "    // Wait for the data to be ready.\n",
              "    let fileData = yield {\n",
              "      promise: fileDataPromise,\n",
              "      response: {\n",
              "        action: 'continue',\n",
              "      }\n",
              "    };\n",
              "\n",
              "    // Use a chunked sending to avoid message size limits. See b/62115660.\n",
              "    let position = 0;\n",
              "    do {\n",
              "      const length = Math.min(fileData.byteLength - position, MAX_PAYLOAD_SIZE);\n",
              "      const chunk = new Uint8Array(fileData, position, length);\n",
              "      position += length;\n",
              "\n",
              "      const base64 = btoa(String.fromCharCode.apply(null, chunk));\n",
              "      yield {\n",
              "        response: {\n",
              "          action: 'append',\n",
              "          file: file.name,\n",
              "          data: base64,\n",
              "        },\n",
              "      };\n",
              "\n",
              "      let percentDone = fileData.byteLength === 0 ?\n",
              "          100 :\n",
              "          Math.round((position / fileData.byteLength) * 100);\n",
              "      percent.textContent = `${percentDone}% done`;\n",
              "\n",
              "    } while (position < fileData.byteLength);\n",
              "  }\n",
              "\n",
              "  // All done.\n",
              "  yield {\n",
              "    response: {\n",
              "      action: 'complete',\n",
              "    }\n",
              "  };\n",
              "}\n",
              "\n",
              "scope.google = scope.google || {};\n",
              "scope.google.colab = scope.google.colab || {};\n",
              "scope.google.colab._files = {\n",
              "  _uploadFiles,\n",
              "  _uploadFilesContinue,\n",
              "};\n",
              "})(self);\n",
              "</script> "
            ]
          },
          "metadata": {}
        },
        {
          "output_type": "stream",
          "name": "stdout",
          "text": [
            "Saving kaggle.json to kaggle.json\n"
          ]
        },
        {
          "output_type": "execute_result",
          "data": {
            "text/plain": [
              "{'kaggle.json': b'{\"username\":\"labcharaidriss\",\"key\":\"1320c6e47ed0931aa22177ce9ac7c8b4\"}'}"
            ]
          },
          "metadata": {},
          "execution_count": 6
        }
      ]
    },
    {
      "cell_type": "markdown",
      "metadata": {
        "id": "B0Nn_artDZJo"
      },
      "source": [
        "## Data Gathering"
      ]
    },
    {
      "cell_type": "code",
      "metadata": {
        "colab": {
          "base_uri": "https://localhost:8080/"
        },
        "id": "xgpCXzmLaz1h",
        "outputId": "1c2b4e01-3cd8-41c6-dd48-8a20dfcc8650"
      },
      "source": [
        "!mkdir ~p ~/.kaggle\n",
        "!cp kaggle.json ~/.kaggle/\n",
        "\n",
        "#Change the permissionA\n",
        "!chmod 600 ~/.kaggle/kaggle.json\n",
        "\n",
        "!kaggle datasets download -d grassknoted/asl-alphabet\n",
        "!unzip -q asl-alphabet.zip"
      ],
      "execution_count": 7,
      "outputs": [
        {
          "output_type": "stream",
          "name": "stdout",
          "text": [
            "Downloading asl-alphabet.zip to /content\n",
            " 99% 1.02G/1.03G [00:05<00:00, 154MB/s]\n",
            "100% 1.03G/1.03G [00:05<00:00, 197MB/s]\n"
          ]
        }
      ]
    },
    {
      "cell_type": "code",
      "metadata": {
        "id": "FynFmvHiRjBd"
      },
      "source": [
        "mkdir train"
      ],
      "execution_count": 8,
      "outputs": []
    },
    {
      "cell_type": "code",
      "metadata": {
        "id": "76LTE1mbPEgq",
        "colab": {
          "base_uri": "https://localhost:8080/",
          "height": 35
        },
        "outputId": "0a0348d9-bb5b-4cd6-b41a-ab0895aa4161"
      },
      "source": [
        "import shutil\n",
        "shutil.make_archive('dataset', 'zip', '/content/asl_alphabet_train/asl_alphabet_train')"
      ],
      "execution_count": 9,
      "outputs": [
        {
          "output_type": "execute_result",
          "data": {
            "text/plain": [
              "'/content/dataset.zip'"
            ],
            "application/vnd.google.colaboratory.intrinsic+json": {
              "type": "string"
            }
          },
          "metadata": {},
          "execution_count": 9
        }
      ]
    },
    {
      "cell_type": "code",
      "metadata": {
        "colab": {
          "base_uri": "https://localhost:8080/",
          "height": 192
        },
        "id": "eeLQxaHoSFm4",
        "outputId": "dfac7f93-f399-4e9f-d5c3-9ac7cb6a35cd"
      },
      "source": [
        "!pip install patool\n",
        "\n",
        "import patoolib\n",
        "patoolib.extract_archive(\"dataset.zip\", outdir=\"train/\")"
      ],
      "execution_count": 10,
      "outputs": [
        {
          "output_type": "stream",
          "name": "stdout",
          "text": [
            "Looking in indexes: https://pypi.org/simple, https://us-python.pkg.dev/colab-wheels/public/simple/\n",
            "Collecting patool\n",
            "  Downloading patool-1.12-py2.py3-none-any.whl (77 kB)\n",
            "\u001b[K     |████████████████████████████████| 77 kB 3.3 MB/s \n",
            "\u001b[?25hInstalling collected packages: patool\n",
            "Successfully installed patool-1.12\n",
            "patool: Extracting dataset.zip ...\n",
            "patool: running /usr/bin/7z x -otrain/ -- dataset.zip\n",
            "patool: ... dataset.zip extracted to `train/'.\n"
          ]
        },
        {
          "output_type": "execute_result",
          "data": {
            "text/plain": [
              "'train/'"
            ],
            "application/vnd.google.colaboratory.intrinsic+json": {
              "type": "string"
            }
          },
          "metadata": {},
          "execution_count": 10
        }
      ]
    },
    {
      "cell_type": "code",
      "metadata": {
        "id": "dnNqk7mMZCP-"
      },
      "source": [
        "rm -rf asl_alphabet_train"
      ],
      "execution_count": 11,
      "outputs": []
    },
    {
      "cell_type": "markdown",
      "metadata": {
        "id": "LY9SyHOBDby2"
      },
      "source": [
        "## Setting up Path"
      ]
    },
    {
      "cell_type": "code",
      "metadata": {
        "id": "TVbS4359c-uE"
      },
      "source": [
        "train_dir = 'train/'"
      ],
      "execution_count": 12,
      "outputs": []
    },
    {
      "cell_type": "markdown",
      "metadata": {
        "id": "lUUkeCZEDeNK"
      },
      "source": [
        "## Import the modules"
      ]
    },
    {
      "cell_type": "code",
      "metadata": {
        "id": "gVXZTXrQdeOF",
        "colab": {
          "base_uri": "https://localhost:8080/"
        },
        "outputId": "526181e5-47ab-42ab-a44e-af6cb6552fc3"
      },
      "source": [
        "import tensorflow as tf\n",
        "tf.random.set_seed(42)\n",
        "\n",
        "print(tf.__version__)"
      ],
      "execution_count": 13,
      "outputs": [
        {
          "output_type": "stream",
          "name": "stdout",
          "text": [
            "2.9.2\n"
          ]
        }
      ]
    },
    {
      "cell_type": "code",
      "metadata": {
        "id": "ztASz1kwDE2p"
      },
      "source": [
        "from imutils import paths\n",
        "from pprint import pprint\n",
        "from collections import Counter\n",
        "import tensorflow_hub as hub\n",
        "from tensorflow.keras.applications.vgg19 import VGG19 # new!\n",
        "from sklearn.preprocessing import LabelEncoder\n",
        "from tensorflow.keras.utils import to_categorical\n",
        "from tensorflow.keras.models import load_model, Sequential\n",
        "from tensorflow.keras.applications import MobileNetV2\n",
        "from tensorflow.keras.layers import Flatten, Conv2D, MaxPooling2D \n",
        "\n",
        "from tensorflow.keras.layers import *\n",
        "import matplotlib.pyplot as plt\n",
        "import re \n",
        "import os\n",
        "import pandas as pd\n",
        "import matplotlib.image as mpimg\n",
        "import seaborn as sns\n",
        "\n",
        "import numpy as np\n",
        "np.random.seed(42)\n",
        "\n",
        "# from tensorflow.keras import mixed_precision\n",
        "# mixed_precision.set_global_policy('mixed_float16')"
      ],
      "execution_count": 14,
      "outputs": []
    },
    {
      "cell_type": "markdown",
      "metadata": {
        "id": "eif6o64nDhF1"
      },
      "source": [
        "## Determine the dimension of the images"
      ]
    },
    {
      "cell_type": "code",
      "metadata": {
        "id": "JCPjwcUHdh_D"
      },
      "source": [
        "dim1 = []\n",
        "dim2 = []\n",
        "for image_filename in os.listdir(train_dir+'A'):\n",
        "    \n",
        "    img = mpimg.imread(train_dir+'A'+'/'+image_filename)\n",
        "    d1,d2,colors = img.shape\n",
        "    dim1.append(d1)\n",
        "    dim2.append(d2)"
      ],
      "execution_count": 15,
      "outputs": []
    },
    {
      "cell_type": "code",
      "metadata": {
        "id": "UdiBl69sdrbn",
        "colab": {
          "base_uri": "https://localhost:8080/",
          "height": 513
        },
        "outputId": "4d1e5fd7-2ef1-4892-9591-3eaa51ec0a48"
      },
      "source": [
        "sns.jointplot(dim1,dim2)"
      ],
      "execution_count": 16,
      "outputs": [
        {
          "output_type": "stream",
          "name": "stderr",
          "text": [
            "/usr/local/lib/python3.7/dist-packages/seaborn/_decorators.py:43: FutureWarning: Pass the following variables as keyword args: x, y. From version 0.12, the only valid positional argument will be `data`, and passing other arguments without an explicit keyword will result in an error or misinterpretation.\n",
            "  FutureWarning\n"
          ]
        },
        {
          "output_type": "execute_result",
          "data": {
            "text/plain": [
              "<seaborn.axisgrid.JointGrid at 0x7f0f73749dd0>"
            ]
          },
          "metadata": {},
          "execution_count": 16
        },
        {
          "output_type": "display_data",
          "data": {
            "text/plain": [
              "<Figure size 432x432 with 3 Axes>"
            ],
            "image/png": "[encoded data removed]"
          },
          "metadata": {
            "needs_background": "light"
          }
        }
      ]
    },
    {
      "cell_type": "code",
      "metadata": {
        "id": "xrH9sdMldtPD",
        "colab": {
          "base_uri": "https://localhost:8080/"
        },
        "outputId": "96fa1d5b-befe-4245-d8c4-a8ac28f977d1"
      },
      "source": [
        "print(np.mean(dim1))\n",
        "print(np.mean(dim2))"
      ],
      "execution_count": 17,
      "outputs": [
        {
          "output_type": "stream",
          "name": "stdout",
          "text": [
            "200.0\n",
            "200.0\n"
          ]
        }
      ]
    },
    {
      "cell_type": "markdown",
      "metadata": {
        "id": "xYJYbotDDnC-"
      },
      "source": [
        "`Height` is 200 and `Width` is 200"
      ]
    },
    {
      "cell_type": "code",
      "metadata": {
        "id": "sEVZD4qOI-wR",
        "colab": {
          "base_uri": "https://localhost:8080/"
        },
        "outputId": "7a0ce2e1-f29f-4c6e-9b01-1fec922ba3a0"
      },
      "source": [
        "image_paths = list(paths.list_images(\"train\"))\n",
        "np.random.shuffle(image_paths)\n",
        "image_paths[:5]"
      ],
      "execution_count": 18,
      "outputs": [
        {
          "output_type": "execute_result",
          "data": {
            "text/plain": [
              "['train/J/J342.jpg',\n",
              " 'train/L/L1118.jpg',\n",
              " 'train/Q/Q865.jpg',\n",
              " 'train/X/X1818.jpg',\n",
              " 'train/B/B1705.jpg']"
            ]
          },
          "metadata": {},
          "execution_count": 18
        }
      ]
    },
    {
      "cell_type": "markdown",
      "metadata": {
        "id": "bIYYgvClDsYS"
      },
      "source": [
        "## Counting number of images per class"
      ]
    },
    {
      "cell_type": "code",
      "metadata": {
        "id": "rRlDcxZYSr1H",
        "colab": {
          "base_uri": "https://localhost:8080/"
        },
        "outputId": "df717704-ce49-4c94-b342-d97a6ff33b21"
      },
      "source": [
        "labels = []\n",
        "for image_path in image_paths:\n",
        "    label = image_path.split(\"/\")[1]\n",
        "    labels.append(label)\n",
        "class_count = Counter(labels) \n",
        "pprint(class_count)"
      ],
      "execution_count": 19,
      "outputs": [
        {
          "output_type": "stream",
          "name": "stdout",
          "text": [
            "Counter({'J': 3000,\n",
            "         'L': 3000,\n",
            "         'Q': 3000,\n",
            "         'X': 3000,\n",
            "         'B': 3000,\n",
            "         'M': 3000,\n",
            "         'A': 3000,\n",
            "         'S': 3000,\n",
            "         'nothing': 3000,\n",
            "         'D': 3000,\n",
            "         'U': 3000,\n",
            "         'I': 3000,\n",
            "         'F': 3000,\n",
            "         'W': 3000,\n",
            "         'space': 3000,\n",
            "         'E': 3000,\n",
            "         'del': 3000,\n",
            "         'T': 3000,\n",
            "         'O': 3000,\n",
            "         'H': 3000,\n",
            "         'K': 3000,\n",
            "         'G': 3000,\n",
            "         'P': 3000,\n",
            "         'C': 3000,\n",
            "         'N': 3000,\n",
            "         'Y': 3000,\n",
            "         'V': 3000,\n",
            "         'R': 3000,\n",
            "         'Z': 3000})\n"
          ]
        }
      ]
    },
    {
      "cell_type": "markdown",
      "metadata": {
        "id": "N3qa8AiRDu6U"
      },
      "source": [
        "Wow! Balanced Dataset"
      ]
    },
    {
      "cell_type": "markdown",
      "metadata": {
        "id": "lecX8O7eDybN"
      },
      "source": [
        "## Define the Hyperparamteres"
      ]
    },
    {
      "cell_type": "code",
      "metadata": {
        "id": "6pEL9AuGSvCc"
      },
      "source": [
        "TRAIN_SPLIT = 0.9\n",
        "BATCH_SIZE = 128\n",
        "AUTO = tf.data.AUTOTUNE\n",
        "EPOCHS = 10\n",
        "IMG_SIZE = 224\n",
        "NUM_CLASSES=29"
      ],
      "execution_count": 20,
      "outputs": []
    },
    {
      "cell_type": "markdown",
      "metadata": {
        "id": "UB1cUUJpD8c9"
      },
      "source": [
        "## Splitting the dataset"
      ]
    },
    {
      "cell_type": "code",
      "metadata": {
        "id": "0GcSHRGLSx4L",
        "colab": {
          "base_uri": "https://localhost:8080/"
        },
        "outputId": "2bb096af-d93c-4f5a-f55e-7a3adc743e24"
      },
      "source": [
        "i = int(len(image_paths) * TRAIN_SPLIT)\n",
        "\n",
        "train_paths = image_paths[:i]\n",
        "train_labels = labels[:i]\n",
        "validation_paths = image_paths[i:]\n",
        "validation_labels = labels[i:]\n",
        "\n",
        "print(len(train_paths), len(validation_paths))"
      ],
      "execution_count": 21,
      "outputs": [
        {
          "output_type": "stream",
          "name": "stdout",
          "text": [
            "78300 8700\n"
          ]
        }
      ]
    },
    {
      "cell_type": "markdown",
      "metadata": {
        "id": "AM5ALOp5EoDg"
      },
      "source": [
        "## Labelling the dataset"
      ]
    },
    {
      "cell_type": "code",
      "metadata": {
        "id": "dDyNewq-Szot",
        "colab": {
          "base_uri": "https://localhost:8080/"
        },
        "outputId": "987605e8-2668-4fb9-e5b3-864421c05c62"
      },
      "source": [
        "le = LabelEncoder()\n",
        "train_labels_le = le.fit_transform(train_labels)\n",
        "validation_labels_le = le.transform(validation_labels)\n",
        "print(train_labels_le[:5])"
      ],
      "execution_count": 22,
      "outputs": [
        {
          "output_type": "stream",
          "name": "stdout",
          "text": [
            "[ 9 11 16 23  1]\n"
          ]
        }
      ]
    },
    {
      "cell_type": "markdown",
      "metadata": {
        "id": "llyJu4gpEqFp"
      },
      "source": [
        "## Preprocessing the data"
      ]
    },
    {
      "cell_type": "code",
      "metadata": {
        "id": "cqktqb58bmv7"
      },
      "source": [
        "@tf.function\n",
        "def load_images(image_path, label):\n",
        "    image = tf.io.read_file(image_path)\n",
        "    image = tf.image.decode_jpeg(image, channels=3)\n",
        "    image = tf.cast(image, tf.float32) / 255.\n",
        "    image = tf.image.resize(image, (IMG_SIZE, IMG_SIZE))\n",
        "    return (image, label)\n",
        "\n",
        "data_augmentation = tf.keras.Sequential(\n",
        "    [\n",
        "        tf.keras.layers.experimental.preprocessing.RandomFlip(\"horizontal\"),\n",
        "        tf.keras.layers.experimental.preprocessing.RandomRotation(factor=0.02),\n",
        "        tf.keras.layers.experimental.preprocessing.RandomZoom(\n",
        "            height_factor=0.2, width_factor=0.2\n",
        "        ),\n",
        "    ],\n",
        "    name=\"data_augmentation\",\n",
        ")"
      ],
      "execution_count": 23,
      "outputs": []
    },
    {
      "cell_type": "markdown",
      "metadata": {
        "id": "5pCijE2zEuRn"
      },
      "source": [
        "## Creating the `Data` Pipeline"
      ]
    },
    {
      "cell_type": "code",
      "metadata": {
        "id": "wunwMIi0bp-y"
      },
      "source": [
        "train_ds = tf.data.Dataset.from_tensor_slices((train_paths, train_labels_le))\n",
        "train_ds = (\n",
        "    train_ds\n",
        "    .shuffle(1024)\n",
        "    .map(load_images, num_parallel_calls=AUTO)\n",
        "    .batch(BATCH_SIZE)\n",
        "    .map(lambda x, y: (data_augmentation(x), y), num_parallel_calls=AUTO)\n",
        "    .prefetch(AUTO)\n",
        ")\n",
        "\n",
        "val_ds = tf.data.Dataset.from_tensor_slices((validation_paths, validation_labels_le))\n",
        "val_ds = (\n",
        "    val_ds\n",
        "    .map(load_images, num_parallel_calls=AUTO)\n",
        "    .batch(BATCH_SIZE)\n",
        "    .prefetch(AUTO)\n",
        ")"
      ],
      "execution_count": 24,
      "outputs": []
    },
    {
      "cell_type": "markdown",
      "metadata": {
        "id": "9H_DHN0TEyYA"
      },
      "source": [
        "## Define the Model"
      ]
    },
    {
      "cell_type": "code",
      "metadata": {
        "id": "cYcxJdBubL-C",
        "colab": {
          "base_uri": "https://localhost:8080/"
        },
        "outputId": "aab8fb07-4de5-4af1-fc0e-2e1738e949a1"
      },
      "source": [
        "model = Sequential()\n",
        "\n",
        "model.add(Conv2D(32, kernel_size=(3, 3), activation='relu', input_shape=(224, 224, 3)))\n",
        "\n",
        "model.add(Conv2D(64, kernel_size=(3, 3), activation='relu'))\n",
        "model.add(MaxPooling2D(pool_size=(2, 2)))\n",
        "model.add(Dropout(0.25))\n",
        "model.add(Flatten())\n",
        "model.add(Dense(128, activation='relu'))\n",
        "model.add(Dropout(0.5))\n",
        "model.add(Dense(NUM_CLASSES, activation='softmax'))\n",
        "model.compile(loss=\"sparse_categorical_crossentropy\", \n",
        "                          optimizer=\"adam\",\n",
        "                          metrics=[\"accuracy\"])\n",
        "model.summary()\n"
      ],
      "execution_count": 25,
      "outputs": [
        {
          "output_type": "stream",
          "name": "stdout",
          "text": [
            "Model: \"sequential\"\n",
            "_________________________________________________________________\n",
            " Layer (type)                Output Shape              Param #   \n",
            "=================================================================\n",
            " conv2d (Conv2D)             (None, 222, 222, 32)      896       \n",
            "                                                                 \n",
            " conv2d_1 (Conv2D)           (None, 220, 220, 64)      18496     \n",
            "                                                                 \n",
            " max_pooling2d (MaxPooling2D  (None, 110, 110, 64)     0         \n",
            " )                                                               \n",
            "                                                                 \n",
            " dropout (Dropout)           (None, 110, 110, 64)      0         \n",
            "                                                                 \n",
            " flatten (Flatten)           (None, 774400)            0         \n",
            "                                                                 \n",
            " dense (Dense)               (None, 128)               99123328  \n",
            "                                                                 \n",
            " dropout_1 (Dropout)         (None, 128)               0         \n",
            "                                                                 \n",
            " dense_1 (Dense)             (None, 29)                3741      \n",
            "                                                                 \n",
            "=================================================================\n",
            "Total params: 99,146,461\n",
            "Trainable params: 99,146,461\n",
            "Non-trainable params: 0\n",
            "_________________________________________________________________\n"
          ]
        }
      ]
    },
    {
      "cell_type": "markdown",
      "metadata": {
        "id": "bsVA2lQuE7K0"
      },
      "source": [
        "## Plot"
      ]
    },
    {
      "cell_type": "markdown",
      "metadata": {
        "id": "rHDPjS9TE2KN"
      },
      "source": [
        "## Define the Callback"
      ]
    },
    {
      "cell_type": "code",
      "metadata": {
        "id": "KakPNU_NcCkV"
      },
      "source": [
        "train_callbacks = [\n",
        "    tf.keras.callbacks.EarlyStopping(\n",
        "        monitor='val_accuracy', patience=2, restore_best_weights=True)\n",
        "]"
      ],
      "execution_count": 26,
      "outputs": []
    },
    {
      "cell_type": "markdown",
      "metadata": {
        "id": "MiIgL1q6E4JG"
      },
      "source": [
        "## Train the Model"
      ]
    },
    {
      "cell_type": "code",
      "metadata": {
        "id": "lNlZZDgWcJrz",
        "colab": {
          "base_uri": "https://localhost:8080/"
        },
        "outputId": "c2fb189e-87e7-4d61-f378-fa57f271ba80"
      },
      "source": [
        "model.fit(train_ds, batch_size=128, epochs=10, verbose=1, validation_data=val_ds)\n",
        "\n",
        "# h = model.fit(train_ds,\n",
        "#                validation_data=val_ds,\n",
        "#                batch_size=BATCH_SIZE,\n",
        "#                callbacks=train_callbacks)\n",
        "\n"
      ],
      "execution_count": null,
      "outputs": [
        {
          "output_type": "stream",
          "name": "stdout",
          "text": [
            "Epoch 1/10\n",
            "612/612 [==============================] - 730s 1s/step - loss: 2.7600 - accuracy: 0.2219 - val_loss: 1.4547 - val_accuracy: 0.5713\n",
            "Epoch 2/10\n",
            "612/612 [==============================] - 754s 1s/step - loss: 1.7048 - accuracy: 0.4450 - val_loss: 0.9616 - val_accuracy: 0.7126\n",
            "Epoch 3/10\n",
            "612/612 [==============================] - 749s 1s/step - loss: 1.4118 - accuracy: 0.5255 - val_loss: 0.8019 - val_accuracy: 0.7628\n",
            "Epoch 4/10\n",
            "612/612 [==============================] - 702s 1s/step - loss: 1.2145 - accuracy: 0.5846 - val_loss: 0.5908 - val_accuracy: 0.8205\n",
            "Epoch 5/10\n",
            " 36/612 [>.............................] - ETA: 11:12 - loss: 1.1491 - accuracy: 0.6009"
          ]
        }
      ]
    },
    {
      "cell_type": "markdown",
      "metadata": {
        "id": "gfMqQ6MOFwjm"
      },
      "source": [
        "## Saving our model"
      ]
    },
    {
      "cell_type": "code",
      "metadata": {
        "id": "iMyYTI_BcOmX"
      },
      "source": [
        "# classifier.save('asl_model')"
      ],
      "execution_count": null,
      "outputs": []
    },
    {
      "cell_type": "code",
      "metadata": {
        "id": "4tG-skjsT1Dw"
      },
      "source": [
        "# !du -lh asl_model"
      ],
      "execution_count": null,
      "outputs": []
    },
    {
      "cell_type": "markdown",
      "metadata": {
        "id": "qZ6vAgUdFykX"
      },
      "source": [
        "## Saving the h5 file"
      ]
    },
    {
      "cell_type": "code",
      "metadata": {
        "id": "sy5quviMVcNk"
      },
      "source": [
        "# KERAS_ASL_FILE = 'asl.h5'\n",
        "# classifier.save(KERAS_ASL_FILE)"
      ],
      "execution_count": null,
      "outputs": []
    },
    {
      "cell_type": "markdown",
      "metadata": {
        "id": "BWt_ubhYF06O"
      },
      "source": [
        "## Helper Function - To determine the file size of our model"
      ]
    },
    {
      "cell_type": "code",
      "metadata": {
        "id": "BhWCP7vbRy0q"
      },
      "source": [
        "import os\n",
        "from sys import getsizeof\n",
        "\n",
        "def get_file_size(file_path):\n",
        "    size = os.path.getsize(file_path)\n",
        "    return size\n",
        "\n",
        "def convert_bytes(size, unit=None):\n",
        "    if unit == \"KB\":\n",
        "        return print('File Size: ' + str(round(size/1024, 3)) +'r' 'Kilobytes')\n",
        "    elif unit == 'MB':\n",
        "        return print('File Size: ' + str(round(size/(1024*1024), 3)) + 'Megabytes')\n",
        "    else:\n",
        "        return print('File Size: ' + str(size) + 'bytes')"
      ],
      "execution_count": null,
      "outputs": []
    },
    {
      "cell_type": "markdown",
      "metadata": {
        "id": "PXF-RaXTF7Er"
      },
      "source": [
        "Wow! 16MB"
      ]
    },
    {
      "cell_type": "markdown",
      "metadata": {
        "id": "J4R7N9xYF_Pq"
      },
      "source": [
        "## Zipping our model together"
      ]
    },
    {
      "cell_type": "markdown",
      "metadata": {
        "id": "2_fjHdJb6u5F"
      },
      "source": [
        "## Testing Pipeline"
      ]
    },
    {
      "cell_type": "code",
      "metadata": {
        "id": "aA60Io9-6LKq"
      },
      "source": [
        "def preprocess_image(image_path):\n",
        "    image = tf.io.read_file(image_path)\n",
        "    image = tf.image.decode_jpeg(image, channels=3)\n",
        "    image = tf.cast(image, tf.float32) / 255.\n",
        "    image = tf.image.resize(image, (IMG_SIZE, IMG_SIZE))\n",
        "    return image"
      ],
      "execution_count": null,
      "outputs": []
    },
    {
      "cell_type": "code",
      "metadata": {
        "id": "pyWp3Vxc7POa"
      },
      "source": [
        "test_image_paths = (list(paths.list_images(\"validaion\")))\n",
        "print(f\"Total test images: {len(test_image_paths)}\")"
      ],
      "execution_count": null,
      "outputs": []
    },
    {
      "cell_type": "code",
      "metadata": {
        "id": "6Ev-GUwp7XDX"
      },
      "source": [
        "test_image_paths[:28]"
      ],
      "execution_count": null,
      "outputs": []
    },
    {
      "cell_type": "code",
      "metadata": {
        "id": "gTfxVeWW7q1M"
      },
      "source": [
        "test_ds = tf.data.Dataset.from_tensor_slices(test_image_paths)\n",
        "test_ds = (\n",
        "    test_ds\n",
        "    .map(preprocess_image)\n",
        "    .batch(BATCH_SIZE)\n",
        ")"
      ],
      "execution_count": null,
      "outputs": []
    },
    {
      "cell_type": "code",
      "metadata": {
        "id": "KvXP3NT97tVP"
      },
      "source": [
        "test_predictions = np.argmax(model.predict(test_ds), 1)"
      ],
      "execution_count": null,
      "outputs": []
    },
    {
      "cell_type": "code",
      "metadata": {
        "id": "ckmTAmAL70Uu"
      },
      "source": [
        "test_predictions.shape"
      ],
      "execution_count": null,
      "outputs": []
    },
    {
      "cell_type": "code",
      "metadata": {
        "id": "460BRqv_72h4"
      },
      "source": [
        "test_predictions[:28]"
      ],
      "execution_count": null,
      "outputs": []
    },
    {
      "cell_type": "code",
      "metadata": {
        "id": "-ZWPtUNj75jV"
      },
      "source": [
        "test_predictions_le = le.inverse_transform(test_predictions)"
      ],
      "execution_count": null,
      "outputs": []
    },
    {
      "cell_type": "code",
      "metadata": {
        "id": "Yn13qFeY8q5C"
      },
      "source": [
        "test_predictions_le[:28]"
      ],
      "execution_count": null,
      "outputs": []
    },
    {
      "cell_type": "code",
      "metadata": {
        "id": "samvRUp6AHsN"
      },
      "source": [
        "# prediction_classes_le = le.inverse_transform(prediction_classes)\n",
        "# prediction_classes_le[:28]"
      ],
      "execution_count": null,
      "outputs": []
    },
    {
      "cell_type": "code",
      "metadata": {
        "id": "zCIf_209AV-6"
      },
      "source": [],
      "execution_count": null,
      "outputs": []
    }
  ]
}